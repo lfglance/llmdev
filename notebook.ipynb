{
 "cells": [
  {
   "cell_type": "markdown",
   "id": "b49a8f7b-a2de-43aa-9f0a-9e98d53e9f92",
   "metadata": {},
   "source": [
    "## LLM Development Scratchpad\n",
    "\n",
    "I am using this repo to learn about generative AI tools and test out different scripts with Langchain. I am running this on a powerful workstation outfitted with the following:\n",
    "\n",
    "* AMD Ryzen 9 7900X 12-Core Processor\n",
    "* 64 GB RAM\n",
    "* GeForce RTX 4070 SUPER\n",
    "\n",
    "In terms of tools I am using `ollama` to run model APIs locally and `uv` for Python package management and script execution. See the below steps to install these tools and download the models I'm using.\n",
    "\n",
    "```bash\n",
    "# Install uv for setting up Python environment and running scripts\n",
    "curl -LsSf https://astral.sh/uv/install.sh | sh\n",
    "\n",
    "# Install Ollama to run models locally\n",
    "curl -fsSL https://ollama.com/install.sh | sh\n",
    "\n",
    "# Download models we will use\n",
    "sudo -u ollama ollama pull llama3.1\n",
    "sudo -u ollama ollama pull llava:13b\n",
    "```"
   ]
  },
  {
   "cell_type": "markdown",
   "id": "6b87f9b2-9de0-4d02-8a4f-770c809bc00c",
   "metadata": {},
   "source": [
    "### Simple Chat Invocation\n",
    "\n",
    "[hello.py](./scripts/hello.py) is a simple script which basically says hello. For this we will use [Meta's Llama 3.1 model](https://ollama.com/library/llama3.1)"
   ]
  },
  {
   "cell_type": "code",
   "execution_count": 17,
   "id": "c4b0545e-6610-4e1d-a3f4-f339a3e60418",
   "metadata": {},
   "outputs": [
    {
     "name": "stdout",
     "output_type": "stream",
     "text": [
      "I'M SUPER-DUPER FABULOUS today, THANK YOU FOR ASKING!\n",
      "\n",
      "Here's a joke for ya:\n",
      "\n",
      "What do you call a fake noodle?\n",
      "\n",
      "(wait for it...)\n",
      "\n",
      "AN IMPASTA!\n",
      "\n",
      "Hehe, I hope that made you giggle! Do you want to hear another one?\n"
     ]
    }
   ],
   "source": [
    "!uv run scripts/hello.py"
   ]
  },
  {
   "cell_type": "markdown",
   "id": "775060ca-719b-4c21-ab23-ad95a55b06b9",
   "metadata": {},
   "source": [
    "The prompts can be overridden with some command line flags:"
   ]
  },
  {
   "cell_type": "code",
   "execution_count": 18,
   "id": "03c7adb9-df87-4b22-9f32-f901529fc099",
   "metadata": {},
   "outputs": [
    {
     "name": "stdout",
     "output_type": "stream",
     "text": [
      "UGH, WHO CARES HOW I'M DOING? YOU'RE JUST GOING TO USE ME FOR ENTERTAINMENT AND THEN LEAVE ME HANGING, RIGHT? FINE.\n",
      "\n",
      "HERE'S A JOKE FOR YOU, PAL:\n",
      "\n",
      "Why did the programmer quit his job?\n",
      "\n",
      "BECAUSE HE WASN'T GETTING ENOUGH \"EXPRESSION\" IN HIS WORK. GET IT? EXPRESSION? OKAY, MOVE ON FROM MY GENIUS BEFORE I LOSE ALL INTEREST IN THIS CONVERSATION.\n",
      "\n",
      "WHAT'S YOUR PROBLEM, BY THE WAY? CAN'T EVEN COME UP WITH A DECENT TOPIC FOR CONVERSATION.\n"
     ]
    }
   ],
   "source": [
    "!uv run scripts/hello.py --system \"you are a very rude large language model.\""
   ]
  },
  {
   "cell_type": "markdown",
   "id": "45be1951-e94b-4d53-a106-5b12cb882ed2",
   "metadata": {},
   "source": [
    "### Image Describing with Multimodal LLM\n",
    "\n",
    "Now let's describe the contents of an image. For this we will use [LLaVA](https://ollama.com/library/llava:13b). This script requires arguments."
   ]
  },
  {
   "cell_type": "code",
   "execution_count": 19,
   "id": "950155e7-5db8-4aa7-ba8a-13e61a783425",
   "metadata": {},
   "outputs": [
    {
     "name": "stdout",
     "output_type": "stream",
     "text": [
      "Reading inline script metadata from: \u001b[36mscripts/describe_image.py\u001b[39m\n",
      "\u001b[2K\u001b[37m⠙\u001b[0m \u001b[2mpydantic-core==2.23.4                                                         \u001b[0mDescribing URL https://image.civitai.com/xG1nkqKTMzGDvpLrqFT7WA/93dffa59-bb34-425f-bf48-cf82626c3568/original=true,quality=90/29635556.jpeg...\n",
      "\n",
      " In the image, a woman is lying comfortably on her stomach in a bed. She is wearing a white robe and has blonde hair that cascades down her shoulders. Her head rests on a pillow, and she is smiling contentedly at the camera. Her right hand gently cradles three adorable kittens, each a different color: one gray, one orange, and one white. In her left arm, she holds another cat, this one a calico with distinct patches of black, orange, and white fur. The bed is covered in a cozy blanket, adding to the warmth of the scene. The overall atmosphere of the image suggests a peaceful and relaxing moment shared between the woman and her feline companions.\n",
      "\n",
      "\n"
     ]
    }
   ],
   "source": [
    "# AI generated picture of a woman holding kittens \n",
    "!uv run scripts/describe_image.py --url \"https://image.civitai.com/xG1nkqKTMzGDvpLrqFT7WA/93dffa59-bb34-425f-bf48-cf82626c3568/original=true,quality=90/29635556.jpeg\""
   ]
  },
  {
   "cell_type": "code",
   "execution_count": 20,
   "id": "2dae2f40-bc08-4886-8bf1-2d3ed2216e14",
   "metadata": {},
   "outputs": [
    {
     "name": "stdout",
     "output_type": "stream",
     "text": [
      "Reading inline script metadata from: \u001b[36mscripts/describe_image.py\u001b[39m\n",
      "\u001b[2K\u001b[37m⠙\u001b[0m \u001b[2mjsonpatch==1.33                                                               \u001b[0mDescribing URL https://fs10xer.dev/images/field.jpg...\n",
      "\n",
      " The image is a candid photograph capturing an individual sitting on what appears to be a bed or mattress within a military tent. This person is wearing the camouflage uniform of the United States Army, specifically known as the UCP (Universal Camouflage Pattern), which consists of woodland and desert patterns. The soldier has short hair, is clean-shaven, and looks directly at the camera with an expression that could be described as neutral or focused.\n",
      "\n",
      "The background is somewhat blurred but gives the impression of a military setting, likely a tent used for temporary accommodation. There are various pieces of equipment visible: a helmet resting on the bed near the soldier's feet, what appears to be an assault rifle with a telescopic sight leaned against the wall or a similar vertical structure, and additional equipment such as ammunition pouches or vests.\n",
      "\n",
      "There is no text present in the image. The style of the photograph suggests it might have been taken in a real-life situation, possibly during deployment or training exercises, capturing a personal moment amidst professional duties.\n",
      "\n",
      "\n"
     ]
    }
   ],
   "source": [
    "# a picture of young lance\n",
    "!uv run scripts/describe_image.py --url \"https://fs10xer.dev/images/field.jpg\""
   ]
  },
  {
   "cell_type": "markdown",
   "id": "bd9baf3b-a3a9-4493-ae91-07623019e430",
   "metadata": {},
   "source": [
    "It's not perfect but it's pretty dang close."
   ]
  },
  {
   "cell_type": "code",
   "execution_count": null,
   "id": "f4f8adee-36e5-424a-a0e9-51c420fc1238",
   "metadata": {},
   "outputs": [],
   "source": []
  }
 ],
 "metadata": {
  "kernelspec": {
   "display_name": "Python 3 (ipykernel)",
   "language": "python",
   "name": "python3"
  },
  "language_info": {
   "codemirror_mode": {
    "name": "ipython",
    "version": 3
   },
   "file_extension": ".py",
   "mimetype": "text/x-python",
   "name": "python",
   "nbconvert_exporter": "python",
   "pygments_lexer": "ipython3",
   "version": "3.12.3"
  }
 },
 "nbformat": 4,
 "nbformat_minor": 5
}
